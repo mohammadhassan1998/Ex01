{
 "cells": [
  {
   "cell_type": "markdown",
   "id": "443ab6e3",
   "metadata": {},
   "source": [
    "<div style=\"color: white;padding-top:18px;text-align:center;background-color:#4775d1;border-radius:15px;border: 1px solid white;\"> \n",
    "    <h3>IN THE NAME OF GOD</h3>\n",
    "</div>"
   ]
  },
  {
   "cell_type": "markdown",
   "id": "de0fa62e",
   "metadata": {},
   "source": [
    "# Exercises 02"
   ]
  },
  {
   "cell_type": "markdown",
   "id": "4a3facd6",
   "metadata": {},
   "source": [
    "## Q1"
   ]
  },
  {
   "cell_type": "code",
   "execution_count": 4,
   "id": "e1ae6b1b",
   "metadata": {},
   "outputs": [
    {
     "name": "stdout",
     "output_type": "stream",
     "text": [
      "Please enter the number : 0\n",
      "0.0\n"
     ]
    }
   ],
   "source": [
    "#  Absolute value\n",
    "# answer one\n",
    "number = float(input(\"Please enter the number : \"))\n",
    "if number >= 0 :\n",
    "    print(number)\n",
    "else :\n",
    "    print(number * (-1))"
   ]
  },
  {
   "cell_type": "code",
   "execution_count": 7,
   "id": "b278a67d",
   "metadata": {},
   "outputs": [
    {
     "name": "stdout",
     "output_type": "stream",
     "text": [
      "Please enter the number : -2\n",
      "2.0\n"
     ]
    }
   ],
   "source": [
    "# answer two\n",
    "number = float(input(\"Please enter the number : \"))\n",
    "if number < 0:\n",
    "    print(number * (-1))\n",
    "else :\n",
    "    print(number)\n"
   ]
  },
  {
   "cell_type": "markdown",
   "id": "98ec64cc",
   "metadata": {},
   "source": [
    "## Q2"
   ]
  },
  {
   "cell_type": "code",
   "execution_count": 4,
   "id": "0d241b4f",
   "metadata": {},
   "outputs": [
    {
     "name": "stdout",
     "output_type": "stream",
     "text": [
      "please enter the num1 : 10\n",
      "please enter the num2 : 20\n",
      "please enter the num3 : 15\n",
      "15.0\n"
     ]
    }
   ],
   "source": [
    "# between\n",
    "# answer one\n",
    "num1 = float(input(\"please enter the num1 : \"))\n",
    "num2 = float(input(\"please enter the num2 : \"))\n",
    "num3 = float(input(\"please enter the num3 : \"))\n",
    "if num2 < num1 < num3 : \n",
    "    print(num1)\n",
    "elif num3 < num1 < num2 : \n",
    "    print(num1)\n",
    "elif num1 < num2 < num3 :\n",
    "    print(num2)\n",
    "elif num3 < num2 < num1 :\n",
    "    print(num2)\n",
    "elif num1 < num3 < num2 :\n",
    "    print(num3)\n",
    "else :\n",
    "    print(num3)"
   ]
  },
  {
   "cell_type": "code",
   "execution_count": 2,
   "id": "b940330a",
   "metadata": {
    "scrolled": true
   },
   "outputs": [
    {
     "name": "stdout",
     "output_type": "stream",
     "text": [
      "please enter the num1 : 1\n",
      "please enter the num2 : 2\n",
      "please enter the num3 : 3\n",
      "2.0\n"
     ]
    }
   ],
   "source": [
    "# answer two\n",
    "num1 = float(input(\"please enter the num1 : \"))\n",
    "num2 = float(input(\"please enter the num2 : \"))\n",
    "num3 = float(input(\"please enter the num3 : \"))\n",
    "if num2 < num1 < num3 or num3 < num1 < num2 : \n",
    "    print(num1)\n",
    "elif num1 < num2 < num3 or num3 < num2 < num1 :\n",
    "    print(num2)\n",
    "elif num1 < num3 < num2 :\n",
    "    print(num3)\n",
    "else :\n",
    "    print(num3)"
   ]
  },
  {
   "cell_type": "markdown",
   "id": "7ee50763",
   "metadata": {},
   "source": [
    "## Q3"
   ]
  },
  {
   "cell_type": "code",
   "execution_count": 7,
   "id": "8c50c4d5",
   "metadata": {},
   "outputs": [
    {
     "name": "stdout",
     "output_type": "stream",
     "text": [
      "please enter the username : s\n",
      "please enter the password : python\n",
      "The username entered is wrong\n"
     ]
    }
   ],
   "source": [
    "# user , pass\n",
    "username = \"filoger\"\n",
    "password = \"python\"\n",
    "username = input(\"please enter the username : \")\n",
    "password = input(\"please enter the password : \")\n",
    "if username == \"filoger\" and password == \"python\" :\n",
    "    print(\"welcom , I was glad you came!!!  :)\")\n",
    "elif username != \"filoger\" and password != \"python\" :\n",
    "    print(\"the entered information is wrong\")\n",
    "elif username == \"filoger\" or password != \"python\" :\n",
    "    print(\"The entered password is wrong\")\n",
    "else :\n",
    "    print(\"The username entered is wrong\")"
   ]
  },
  {
   "cell_type": "markdown",
   "id": "f76b45c3",
   "metadata": {},
   "source": [
    "<div style=\"color: white;padding-top:18px;text-align:center;background-color:#4775d1;border-radius:15px;border: 1px solid white;\"> \n",
    "    <h3>THE END</h3>\n",
    "</div>"
   ]
  }
 ],
 "metadata": {
  "kernelspec": {
   "display_name": "Python 3 (ipykernel)",
   "language": "python",
   "name": "python3"
  },
  "language_info": {
   "codemirror_mode": {
    "name": "ipython",
    "version": 3
   },
   "file_extension": ".py",
   "mimetype": "text/x-python",
   "name": "python",
   "nbconvert_exporter": "python",
   "pygments_lexer": "ipython3",
   "version": "3.10.9"
  }
 },
 "nbformat": 4,
 "nbformat_minor": 5
}
