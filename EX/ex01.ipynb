{
 "cells": [
  {
   "cell_type": "markdown",
   "metadata": {},
   "source": [
    "<div style=\"color: white;padding-top:18px;text-align:center;background-color:#4775d1;border-radius:15px;border: 1px solid white;\"> \n",
    "    <h3>IN THE NAME OF GOD</h3>\n",
    "</div>"
   ]
  },
  {
   "cell_type": "markdown",
   "metadata": {},
   "source": [
    "# Exercises 01"
   ]
  },
  {
   "cell_type": "markdown",
   "metadata": {},
   "source": [
    "## Q1"
   ]
  },
  {
   "cell_type": "code",
   "execution_count": 6,
   "metadata": {},
   "outputs": [
    {
     "name": "stdout",
     "output_type": "stream",
     "text": [
      "<class 'float'>\n",
      "12.6\n",
      "<class 'float'>\n",
      "12\n",
      "<class 'int'>\n"
     ]
    }
   ],
   "source": [
    "# type , change type to float and int\n",
    "num1 = 12.6\n",
    "a1 = float(num1)\n",
    "a2 = int(num1)\n",
    "print(type(num1))\n",
    "print(a1)\n",
    "print(type(a1))\n",
    "print(a2)\n",
    "print(type(a2))"
   ]
  },
  {
   "cell_type": "code",
   "execution_count": 7,
   "metadata": {},
   "outputs": [
    {
     "name": "stdout",
     "output_type": "stream",
     "text": [
      "<class 'str'>\n",
      "50.0\n",
      "<class 'float'>\n",
      "50\n",
      "<class 'int'>\n"
     ]
    }
   ],
   "source": [
    "# type , change type to float and int\n",
    "num2 = \"050\"\n",
    "b1 = float(num2)\n",
    "b2 = int(num2)\n",
    "print(type(num2))\n",
    "print(b1)\n",
    "print(type(b1))\n",
    "print(b2)\n",
    "print(type(b2))"
   ]
  },
  {
   "cell_type": "code",
   "execution_count": 9,
   "metadata": {},
   "outputs": [
    {
     "name": "stdout",
     "output_type": "stream",
     "text": [
      "<class 'str'>\n",
      "20.0\n",
      "<class 'float'>\n",
      "20\n",
      "<class 'int'>\n"
     ]
    }
   ],
   "source": [
    "# type , change type to float and int\n",
    "num3 = \"20.\"\n",
    "c1 = float(num3)\n",
    "c2 = int(c1)   # cannot str \"20.\" to int . It must first be converted to float and then to int .\n",
    "print(type(num3))\n",
    "print(c1)\n",
    "print(type(c1))\n",
    "print(c2)\n",
    "print(type(c2))"
   ]
  },
  {
   "cell_type": "code",
   "execution_count": 3,
   "metadata": {},
   "outputs": [
    {
     "name": "stdout",
     "output_type": "stream",
     "text": [
      "<class 'str'>\n"
     ]
    }
   ],
   "source": [
    "# type , change type to float and int\n",
    "student_num = \"s98234\"\n",
    "sn = student_num   # variable summary\n",
    "\n",
    "print(type(sn))\n"
   ]
  },
  {
   "cell_type": "code",
   "execution_count": 38,
   "metadata": {},
   "outputs": [
    {
     "ename": "NameError",
     "evalue": "name 'sn' is not defined",
     "output_type": "error",
     "traceback": [
      "\u001b[1;31m---------------------------------------------------------------------------\u001b[0m",
      "\u001b[1;31mNameError\u001b[0m                                 Traceback (most recent call last)",
      "Cell \u001b[1;32mIn[38], line 2\u001b[0m\n\u001b[0;32m      1\u001b[0m \u001b[38;5;66;03m# could not convert str to (int & float) : 's98234'\u001b[39;00m\n\u001b[1;32m----> 2\u001b[0m d1 \u001b[38;5;241m=\u001b[39m \u001b[38;5;28mfloat\u001b[39m(\u001b[43msn\u001b[49m)\n\u001b[0;32m      3\u001b[0m d2 \u001b[38;5;241m=\u001b[39m \u001b[38;5;28mint\u001b[39m(sn)\n\u001b[0;32m      4\u001b[0m \u001b[38;5;28mprint\u001b[39m(d1)\n",
      "\u001b[1;31mNameError\u001b[0m: name 'sn' is not defined"
     ]
    }
   ],
   "source": [
    "# could not convert str to (int & float) : 's98234'\n",
    "d1 = float(sn)\n",
    "d2 = int(sn)\n",
    "print(d1)\n",
    "print(type(d1))\n",
    "print(d2)\n",
    "print(type(d2))"
   ]
  },
  {
   "cell_type": "code",
   "execution_count": 5,
   "metadata": {},
   "outputs": [
    {
     "name": "stdout",
     "output_type": "stream",
     "text": [
      "<class 'bool'>\n"
     ]
    }
   ],
   "source": [
    "# type , change type to float and int\n",
    "flag = True\n",
    "print(type(flag))"
   ]
  },
  {
   "cell_type": "code",
   "execution_count": 11,
   "metadata": {},
   "outputs": [
    {
     "name": "stdout",
     "output_type": "stream",
     "text": [
      "1\n",
      "<class 'int'>\n",
      "1.0\n",
      "<class 'float'>\n"
     ]
    }
   ],
   "source": [
    "e1 = int(flag)\n",
    "e2 = float(flag)\n",
    "print(e1)\n",
    "print(type(e1))\n",
    "print(e2)\n",
    "print(type(e2))  # oh yes!!! :) , I did not expect bool True to be converted to int and float"
   ]
  },
  {
   "cell_type": "code",
   "execution_count": 12,
   "metadata": {},
   "outputs": [
    {
     "name": "stdout",
     "output_type": "stream",
     "text": [
      "<class 'int'>\n",
      "True\n",
      "<class 'bool'>\n"
     ]
    }
   ],
   "source": [
    "# type , change type to bool\n",
    "num1 = -20\n",
    "f1 = bool(num1)\n",
    "print(type(num1))\n",
    "print(f1)\n",
    "print(type(f1))"
   ]
  },
  {
   "cell_type": "code",
   "execution_count": 13,
   "metadata": {},
   "outputs": [
    {
     "name": "stdout",
     "output_type": "stream",
     "text": [
      "<class 'int'>\n",
      "False\n",
      "<class 'bool'>\n"
     ]
    }
   ],
   "source": [
    "# type , change type to bool\n",
    "num2 = 00\n",
    "g1 = bool(num2)\n",
    "print(type(num2))\n",
    "print(g1)\n",
    "print(type(g1))"
   ]
  },
  {
   "cell_type": "code",
   "execution_count": 14,
   "metadata": {},
   "outputs": [
    {
     "name": "stdout",
     "output_type": "stream",
     "text": [
      "<class 'str'>\n",
      "True\n",
      "<class 'bool'>\n"
     ]
    }
   ],
   "source": [
    "# type , change type to bool\n",
    "flag = \"False\"\n",
    "h1 = bool(flag)\n",
    "print(type(flag))\n",
    "print(h1)\n",
    "print(type(h1))"
   ]
  },
  {
   "cell_type": "markdown",
   "metadata": {},
   "source": [
    "## Q2"
   ]
  },
  {
   "cell_type": "code",
   "execution_count": 18,
   "metadata": {},
   "outputs": [
    {
     "name": "stdout",
     "output_type": "stream",
     "text": [
      "19.166666666666668\n"
     ]
    }
   ],
   "source": [
    "# average\n",
    "num1 = 20\n",
    "num2 = 19.\n",
    "num3 = \"18.5\"\n",
    "num3 = float(num3)\n",
    "ave = (num1 + num2 + num3) / 3\n",
    "print(ave)"
   ]
  },
  {
   "cell_type": "markdown",
   "metadata": {},
   "source": [
    "## Q3"
   ]
  },
  {
   "cell_type": "code",
   "execution_count": 20,
   "metadata": {},
   "outputs": [
    {
     "name": "stdout",
     "output_type": "stream",
     "text": [
      "True\n",
      "False\n"
     ]
    }
   ],
   "source": [
    "# true , false\n",
    "num1 = 20\n",
    "num2 = 10\n",
    "print(num1 > num2)\n",
    "print(num1 < num2)"
   ]
  },
  {
   "cell_type": "markdown",
   "metadata": {},
   "source": [
    "## Q4"
   ]
  },
  {
   "cell_type": "code",
   "execution_count": 36,
   "metadata": {},
   "outputs": [
    {
     "name": "stdout",
     "output_type": "stream",
     "text": [
      "Please enter the length : 12\n",
      "Please enter the width : 13\n",
      "area (rectangle) :  156.0\n",
      "perimeter (rectangle) :  50.0\n"
     ]
    }
   ],
   "source": [
    "# perimeter and area (rectangle)\n",
    "num1 = float(input(\"Please enter the length : \"))\n",
    "num2 = float(input(\"Please enter the width : \"))\n",
    "print(\"area (rectangle) : \",num1 * num2)\n",
    "print(\"perimeter (rectangle) : \",(num1 + num2) * 2)"
   ]
  },
  {
   "cell_type": "markdown",
   "metadata": {},
   "source": [
    "## Q5"
   ]
  },
  {
   "cell_type": "code",
   "execution_count": 18,
   "metadata": {
    "scrolled": true
   },
   "outputs": [
    {
     "name": "stdout",
     "output_type": "stream",
     "text": [
      "please enter the Radius : 10\n",
      "86.0  : مساحت قسمت رنگ شده\n"
     ]
    }
   ],
   "source": [
    "# area of the colored part\n",
    "R = float(input(\"please enter the Radius : \"))\n",
    "Square_area = ((R*2) ** 2)\n",
    "s = Square_area  # variable summary\n",
    "Circle_area = (3.14 * R **2)\n",
    "c = Circle_area  # variable summary\n",
    "print(s - c , \" : مساحت قسمت رنگ شده\")"
   ]
  },
  {
   "cell_type": "markdown",
   "metadata": {},
   "source": [
    "## Q6"
   ]
  },
  {
   "cell_type": "code",
   "execution_count": 20,
   "metadata": {},
   "outputs": [
    {
     "name": "stdout",
     "output_type": "stream",
     "text": [
      "200 200 200\n"
     ]
    }
   ],
   "source": [
    "num1 = num2 = num3 = 200  # True\n",
    "print(num1 , num2 , num3) # All three values are of 200"
   ]
  },
  {
   "cell_type": "code",
   "execution_count": 21,
   "metadata": {},
   "outputs": [
    {
     "name": "stdout",
     "output_type": "stream",
     "text": [
      "10 20 145\n"
     ]
    }
   ],
   "source": [
    "num1 , num2 , num3 = 10, 20, 145  # True\n",
    "print(num1 , num2 , num3)         # Values are entered linearly"
   ]
  },
  {
   "cell_type": "code",
   "execution_count": 25,
   "metadata": {},
   "outputs": [
    {
     "ename": "ValueError",
     "evalue": "not enough values to unpack (expected 3, got 2)",
     "output_type": "error",
     "traceback": [
      "\u001b[1;31m---------------------------------------------------------------------------\u001b[0m",
      "\u001b[1;31mValueError\u001b[0m                                Traceback (most recent call last)",
      "Cell \u001b[1;32mIn[25], line 1\u001b[0m\n\u001b[1;32m----> 1\u001b[0m num1 , num2 , num3 \u001b[38;5;241m=\u001b[39m \u001b[38;5;241m30\u001b[39m, \u001b[38;5;241m100\u001b[39m\n\u001b[0;32m      2\u001b[0m \u001b[38;5;28mprint\u001b[39m(num1 , num2 , num3)\n",
      "\u001b[1;31mValueError\u001b[0m: not enough values to unpack (expected 3, got 2)"
     ]
    }
   ],
   "source": [
    "num1 , num2 , num3 = 30, 100  #False\n",
    "print(num1 , num2 , num3)     #num3 is not entered "
   ]
  },
  {
   "cell_type": "code",
   "execution_count": 33,
   "metadata": {
    "scrolled": true
   },
   "outputs": [
    {
     "name": "stdout",
     "output_type": "stream",
     "text": [
      "#1 S :  (30, 100, 20)\n",
      "#2 S :  (30, 100)\n"
     ]
    }
   ],
   "source": [
    "# 2 Solution fix the error :\n",
    "# 1 S : enter the 3 number in first line  # for example : 20\n",
    "A = num1 , num2 , num3 = 30, 100, 20\n",
    "# 2 S : delete the num3 in first and second line\n",
    "B = num1 , num2 = 30, 100\n",
    "print(\"#1 S : \",A)\n",
    "print(\"#2 S : \",B)"
   ]
  },
  {
   "cell_type": "markdown",
   "metadata": {},
   "source": [
    "<div style=\"color: white;padding-top:18px;text-align:center;background-color:#4775d1;border-radius:15px;border: 1px solid white;\"> \n",
    "    <h3>THE END</h3>\n",
    "</div>"
   ]
  }
 ],
 "metadata": {
  "kernelspec": {
   "display_name": "Python 3 (ipykernel)",
   "language": "python",
   "name": "python3"
  },
  "language_info": {
   "codemirror_mode": {
    "name": "ipython",
    "version": 3
   },
   "file_extension": ".py",
   "mimetype": "text/x-python",
   "name": "python",
   "nbconvert_exporter": "python",
   "pygments_lexer": "ipython3",
   "version": "3.10.9"
  }
 },
 "nbformat": 4,
 "nbformat_minor": 2
}
